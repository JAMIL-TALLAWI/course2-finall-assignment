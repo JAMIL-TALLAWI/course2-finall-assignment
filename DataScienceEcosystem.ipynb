{
 "cells": [
  {
   "cell_type": "markdown",
   "id": "d3da7c74-54b0-4c01-900c-9114adcb60be",
   "metadata": {},
   "source": [
    "# Data Science Tools and Ecosystem"
   ]
  },
  {
   "cell_type": "markdown",
   "id": "bda767e9-3fdb-4a74-8c50-843bf448963e",
   "metadata": {
    "tags": []
   },
   "source": [
    "#### In this notebook, Data Science Tools and Ecosystem are summarized."
   ]
  },
  {
   "cell_type": "markdown",
   "id": "3e1f4d49-c861-476d-a7e3-60db0cd5d52a",
   "metadata": {},
   "source": [
    "#### Objectives:\n",
    "* List some popular languges Data Scientist use.\n",
    "* List some commonly used libraries used in data science.\n",
    "* Data science tools\n",
    "* simple example for arithmetic expressions in python."
   ]
  },
  {
   "cell_type": "markdown",
   "id": "66d7412f-c705-4da8-bed1-04c7c8f2b2c2",
   "metadata": {},
   "source": [
    "##### Some of the popular languages that Data Scientists use are:\n",
    "* python\n",
    "* R\n",
    "* Julia\n",
    "* Scala"
   ]
  },
  {
   "cell_type": "markdown",
   "id": "289caae8-3354-4dd6-af14-c6f0f7a41080",
   "metadata": {
    "tags": []
   },
   "source": [
    "##### Some of the commonly used libraries used by Data Scientists include:\n",
    "1. Pandas\n",
    "2. Numpy\n",
    "3. scipy\n",
    "4. Tensorflow\n",
    "5. Keras\n",
    "6. Scikit-Learn"
   ]
  },
  {
   "cell_type": "markdown",
   "id": "b788d7ae-f8c6-4578-bac4-2490d1ea3e87",
   "metadata": {},
   "source": [
    "|Data Science Tools|\n",
    "|:-:|\n",
    "|R studio|\n",
    "|Apache Spark|\n",
    "|Hadoop|\n",
    "|TensorFlow|"
   ]
  },
  {
   "cell_type": "markdown",
   "id": "905d6c27-3a3d-49c7-91df-2bf3f508eb65",
   "metadata": {},
   "source": [
    "### Below are a few examples of evaluating arithmetic expressions in Python:\n",
    "- (4+5)*3\n",
    "- (20-10)/10\n",
    "- 90*(8+3)"
   ]
  },
  {
   "cell_type": "code",
   "execution_count": 7,
   "id": "f880a8bf-ffe5-412c-b161-ea0c77c39e98",
   "metadata": {
    "tags": []
   },
   "outputs": [
    {
     "data": {
      "text/plain": [
       "17"
      ]
     },
     "execution_count": 7,
     "metadata": {},
     "output_type": "execute_result"
    }
   ],
   "source": [
    "# This a simple arithmetic expression to mutiply then add integers:\n",
    "(3*4)+5"
   ]
  },
  {
   "cell_type": "code",
   "execution_count": 14,
   "id": "ee10e06f-e331-4c0f-8914-b2bddff12719",
   "metadata": {},
   "outputs": [
    {
     "data": {
      "text/plain": [
       "3.3333333333333335"
      ]
     },
     "execution_count": 14,
     "metadata": {},
     "output_type": "execute_result"
    }
   ],
   "source": [
    "# This will convert 200 minutes to hours by diving by 60:\n",
    "200/60"
   ]
  },
  {
   "cell_type": "markdown",
   "id": "845c070b-7e1e-4bea-b025-cd279a57682a",
   "metadata": {},
   "source": [
    "## Author\n",
    "Jamil AL Tallawi"
   ]
  },
  {
   "cell_type": "code",
   "execution_count": null,
   "id": "74de3469-9478-450e-98be-76fc588bd349",
   "metadata": {},
   "outputs": [],
   "source": []
  }
 ],
 "metadata": {
  "kernelspec": {
   "display_name": "Python 3 (ipykernel)",
   "language": "python",
   "name": "python3"
  },
  "language_info": {
   "codemirror_mode": {
    "name": "ipython",
    "version": 3
   },
   "file_extension": ".py",
   "mimetype": "text/x-python",
   "name": "python",
   "nbconvert_exporter": "python",
   "pygments_lexer": "ipython3",
   "version": "3.9.12"
  }
 },
 "nbformat": 4,
 "nbformat_minor": 5
}
